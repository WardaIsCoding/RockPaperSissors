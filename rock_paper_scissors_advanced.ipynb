{
 "cells": [
  {
   "cell_type": "markdown",
   "id": "d0c98e89",
   "metadata": {},
   "source": [
    "<h3> Import the random library</h3>"
   ]
  },
  {
   "cell_type": "code",
   "execution_count": 1,
   "id": "435d3deb",
   "metadata": {},
   "outputs": [],
   "source": [
    "import random"
   ]
  },
  {
   "cell_type": "markdown",
   "id": "d392db62",
   "metadata": {},
   "source": [
    "<h3>Create the function \"getValidHumanPlay\" that checks if the action choosed is among the set </h3>"
   ]
  },
  {
   "cell_type": "code",
   "execution_count": 2,
   "id": "2bfba8c8",
   "metadata": {},
   "outputs": [],
   "source": [
    "def getValidHumanPlay(low,high):\n",
    "    \n",
    "    condition=True# The condition Boolean variable, intiation to start\n",
    "    while (condition):# Checking loop\n",
    "        Human_action=int(input(\"Enter a choice (0 for rock, 1 for paper, 2 forscissors): \")) # Ask input from the user\n",
    "        condition=(Human_action<low or Human_action>high)# The condition Boolean variable\n",
    "        if not condition:\n",
    "            return Human_action"
   ]
  },
  {
   "cell_type": "markdown",
   "id": "d84c98a7",
   "metadata": {},
   "source": [
    "<h3>Create the function \"getPlay\" it's kind of similar to a round in this game but in here it avoids the tie case </h3>"
   ]
  },
  {
   "cell_type": "code",
   "execution_count": 3,
   "id": "cbba8b3d",
   "metadata": {},
   "outputs": [],
   "source": [
    "def getPlay(human,plays):\n",
    "    keepPlaying=True\n",
    "    while keepPlaying:\n",
    "        humanPlay=getValidHumanPlay(0,2)\n",
    "        computerPlay=random.randint(0,2)\n",
    "        keepPlaying=(humanPlay==computerPlay)\n",
    "        if keepPlaying:\n",
    "            print(f\"Both players selected {plays[humanPlay]}. It's a tie!\")\n",
    "        \n",
    "    return [humanPlay,computerPlay]\n",
    "            \n",
    "    "
   ]
  },
  {
   "cell_type": "markdown",
   "id": "31a327f0",
   "metadata": {},
   "source": [
    "<h3>Create the function \"checkWinner\" Checks who's the winner in a round and computes the new score </h3>"
   ]
  },
  {
   "cell_type": "code",
   "execution_count": 4,
   "id": "e96cc360",
   "metadata": {},
   "outputs": [],
   "source": [
    "def checkWinner(play,plays,humanCount,computerCount):\n",
    "    result=play[0]-play[1]\n",
    "    humanWins=[-2,1]\n",
    "    if result in humanWins:\n",
    "        humanCount=humanCount+1\n",
    "        print(f\"human won : human: {plays[play[0]]} vs Computer {plays[play[1]]}\")\n",
    "    else :\n",
    "        computerCount=computerCount+1\n",
    "        print(f\"Computer won : Computer: {plays[play[1]]} vs human {plays[play[0]]}\")\n",
    "    return humanCount,computerCount\n",
    "    \n",
    "    "
   ]
  },
  {
   "cell_type": "markdown",
   "id": "e5cf3321",
   "metadata": {},
   "source": [
    "<h2>The Main program </h2>"
   ]
  },
  {
   "cell_type": "markdown",
   "id": "108a0f65",
   "metadata": {},
   "source": [
    "In here we play rock, paper sissors game with the computer. The first who scores 3 points is the winner."
   ]
  },
  {
   "cell_type": "code",
   "execution_count": 9,
   "id": "fa68960c",
   "metadata": {},
   "outputs": [
    {
     "name": "stdout",
     "output_type": "stream",
     "text": [
      "Inter your name: 1\n",
      "Enter a choice (0 for rock, 1 for paper, 2 forscissors): 2\n",
      "human won : human: SCISSORS vs Computer PAPER\n",
      " score: human :1 Computer 0\n",
      "Enter a choice (0 for rock, 1 for paper, 2 forscissors): 1\n",
      "Computer won : Computer: SCISSORS vs human PAPER\n",
      " score: human :1 Computer 1\n",
      "Enter a choice (0 for rock, 1 for paper, 2 forscissors): 0\n",
      "Computer won : Computer: PAPER vs human ROCK\n",
      " score: human :1 Computer 2\n",
      "Enter a choice (0 for rock, 1 for paper, 2 forscissors): 2\n",
      "human won : human: SCISSORS vs Computer PAPER\n",
      " score: human :2 Computer 2\n",
      "Enter a choice (0 for rock, 1 for paper, 2 forscissors): 2\n",
      "Computer won : Computer: ROCK vs human SCISSORS\n",
      " score: human :2 Computer 3\n",
      "Computer has won! You losed scores: Computer 3 vs 1 2\n"
     ]
    }
   ],
   "source": [
    "## Beginning of Main\n",
    "human=input(\"Inter your name: \").upper()\n",
    "plays=[\"ROCK\",\"PAPER\",\"SCISSORS\"]\n",
    "humanCount,computerCount=0,0\n",
    "KeepPlaying=True\n",
    "while KeepPlaying:\n",
    "    play=getPlay(human,plays)\n",
    "    humanCount,computerCount=checkWinner(play,plays,humanCount,computerCount)\n",
    "    KeepPlaying=(humanCount<3) and (computerCount<3)\n",
    "    print(f\" score: human :{humanCount} Computer {computerCount}\")\n",
    "if humanCount==3:\n",
    "    print(f\"Human {human} has won! scores: {human} {humanCount} vs Computer {computerCount}\")\n",
    "elif computerCount==3:\n",
    "    print(f\"Computer has won! You lost.scores: Computer {computerCount} vs {human} {humanCount}\")"
   ]
  },
  {
   "cell_type": "code",
   "execution_count": null,
   "id": "f8434ac1",
   "metadata": {},
   "outputs": [],
   "source": []
  }
 ],
 "metadata": {
  "kernelspec": {
   "display_name": "Python 3 (ipykernel)",
   "language": "python",
   "name": "python3"
  },
  "language_info": {
   "codemirror_mode": {
    "name": "ipython",
    "version": 3
   },
   "file_extension": ".py",
   "mimetype": "text/x-python",
   "name": "python",
   "nbconvert_exporter": "python",
   "pygments_lexer": "ipython3",
   "version": "3.9.7"
  }
 },
 "nbformat": 4,
 "nbformat_minor": 5
}
